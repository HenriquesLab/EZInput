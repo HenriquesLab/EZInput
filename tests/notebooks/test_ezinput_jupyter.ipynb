{
 "cells": [
  {
   "cell_type": "code",
   "execution_count": 2,
   "metadata": {},
   "outputs": [
    {
     "name": "stdout",
     "output_type": "stream",
     "text": [
      "None\n"
     ]
    }
   ],
   "source": [
    "# Test that the GUI is in Jupyter mode\n",
    "from ezinput import EZInput\n",
    "\n",
    "gui = EZInput()\n",
    "assert gui.mode == \"jupyter\""
   ]
  },
  {
   "cell_type": "code",
   "execution_count": 3,
   "metadata": {},
   "outputs": [
    {
     "name": "stdout",
     "output_type": "stream",
     "text": [
      "None\n"
     ]
    }
   ],
   "source": [
    "# Test adding a label\n",
    "gui = EZInput(\"Test_jupyter\")\n",
    "gui.add_label(value=\"Test Header\")"
   ]
  },
  {
   "cell_type": "code",
   "execution_count": 4,
   "metadata": {},
   "outputs": [
    {
     "name": "stdout",
     "output_type": "stream",
     "text": [
      "None\n"
     ]
    }
   ],
   "source": [
    "# Test adding a text input\n",
    "gui = EZInput(\"Test_jupyter_2\")\n",
    "gui.add_text(\n",
    "    \"test_text\",\n",
    "    \"Enter text:\",\n",
    "    placeholder=\"Example text\",\n",
    "    remember_value=True,\n",
    ")"
   ]
  },
  {
   "cell_type": "code",
   "execution_count": 5,
   "metadata": {},
   "outputs": [
    {
     "data": {
      "application/vnd.jupyter.widget-view+json": {
       "model_id": "1a98aa7bdb9a4639b7473d248e0824e9",
       "version_major": 2,
       "version_minor": 0
      },
      "text/plain": [
       "VBox(children=(Textarea(value='', description='Enter text:', layout=Layout(width='50%'), placeholder='Example …"
      ]
     },
     "metadata": {},
     "output_type": "display_data"
    }
   ],
   "source": [
    "# Test adding a text input\n",
    "gui = EZInput(\"Test_jupyter_3\")\n",
    "gui.add_text_area(\n",
    "    \"test_text\",\n",
    "    \"Enter text:\",\n",
    "    placeholder=\"Example text\",\n",
    "    remember_value=True,\n",
    ")\n",
    "gui.show()"
   ]
  },
  {
   "cell_type": "code",
   "execution_count": 6,
   "metadata": {},
   "outputs": [
    {
     "data": {
      "application/vnd.jupyter.widget-view+json": {
       "model_id": "8287d7d6b95d48ef98f31dcf193a165f",
       "version_major": 2,
       "version_minor": 0
      },
      "text/plain": [
       "VBox(children=(Label(value='Test Header', layout=Layout(width='50%'), style=LabelStyle(description_width='init…"
      ]
     },
     "metadata": {},
     "output_type": "display_data"
    }
   ],
   "source": [
    "# Test adding a callback\n",
    "from ezinput import EZInput\n",
    "from tifffile import imwrite\n",
    "\n",
    "def custom_sum_text(values):\n",
    "    sum = values[\"test_text\"].value + values[\"test_text_2\"].value\n",
    "    gui.add_label(\n",
    "        value=f\"Sum of text: {sum}\",\n",
    "    )\n",
    "    imwrite(gui.va)\n",
    "    gui.save_config()\n",
    "    gui.show()\n",
    "\n",
    "gui = EZInput(\"Test_jupyter_4\")\n",
    "gui.add_label(value=\"Test Header\")\n",
    "gui.add_text(\n",
    "    \"test_text\",\n",
    "    description=\"Enter text:\",\n",
    "    placeholder=\"Enter text here\",\n",
    "    remember_value=True,\n",
    ")\n",
    "gui.show()\n",
    "gui.add_text(\n",
    "    \"test_text_2\",\n",
    "    description=\"Enter text:\",\n",
    "    placeholder=\"Enter text here\",\n",
    "    remember_value=True,\n",
    ")\n",
    "gui.add_callback(\n",
    "    \"button\",\n",
    "    custom_sum_text,\n",
    "    gui.elements,\n",
    "    description=\"Sum Text\"\n",
    ")\n",
    "gui.show()"
   ]
  },
  {
   "cell_type": "code",
   "execution_count": 7,
   "metadata": {},
   "outputs": [
    {
     "data": {
      "application/vnd.jupyter.widget-view+json": {
       "model_id": "130a9653f38747538e9f4b8888d279ad",
       "version_major": 2,
       "version_minor": 0
      },
      "text/plain": [
       "VBox(children=(Label(value='Test Header', layout=Layout(width='50%'), style=LabelStyle(description_width='init…"
      ]
     },
     "metadata": {},
     "output_type": "display_data"
    }
   ],
   "source": [
    "# Test adding a button\n",
    "from ezinput import EZInput\n",
    "gui = EZInput(\"Test_jupyter_5\")\n",
    "gui.add_label(value=\"Test Header\")\n",
    "gui.add_button(\n",
    "    \"button\",\n",
    "    description=\"Test Button\",\n",
    ")\n",
    "gui.show()"
   ]
  },
  {
   "cell_type": "code",
   "execution_count": 8,
   "metadata": {},
   "outputs": [
    {
     "data": {
      "application/vnd.jupyter.widget-view+json": {
       "model_id": "1898ac11e4284d9bb4fd52023ab9ab8f",
       "version_major": 2,
       "version_minor": 0
      },
      "text/plain": [
       "VBox(children=(IntSlider(value=0, description='Range', layout=Layout(width='50%'), max=10, style=SliderStyle(d…"
      ]
     },
     "metadata": {},
     "output_type": "display_data"
    }
   ],
   "source": [
    "# Test adding int slider\n",
    "from ezinput import EZInput\n",
    "gui = EZInput(\"Test_jupyter_6\")\n",
    "gui.add_int_range(\"tag\", \"Range\", 0, 10)\n",
    "gui.add_int_slider(\"sensitivity\", description=\"Sensitivity:\", min=1, max=10, value=1)\n",
    "gui.show()"
   ]
  },
  {
   "cell_type": "code",
   "execution_count": 9,
   "metadata": {},
   "outputs": [
    {
     "data": {
      "application/vnd.jupyter.widget-view+json": {
       "model_id": "4f664ce6425f494d9d63810775609408",
       "version_major": 2,
       "version_minor": 0
      },
      "text/plain": [
       "VBox(children=(FloatSlider(value=0.0, description='Range', layout=Layout(width='50%'), max=1.0, style=SliderSt…"
      ]
     },
     "metadata": {},
     "output_type": "display_data"
    }
   ],
   "source": [
    "# Test adding float slider\n",
    "from ezinput import EZInput\n",
    "gui = EZInput(\"Test_jupyter_7\")\n",
    "gui.add_float_range(\"tag\", \"Range\", 0.0, 1.0)\n",
    "gui.add_float_slider(\"ring_radius\", description=\"Ring Radius:\", min=0.1, max=3.0, value=0.5, remember_value=True)\n",
    "gui.show()"
   ]
  },
  {
   "cell_type": "code",
   "execution_count": 10,
   "metadata": {},
   "outputs": [
    {
     "data": {
      "application/vnd.jupyter.widget-view+json": {
       "model_id": "e2cfb675185546ad9cb64e1294963a99",
       "version_major": 2,
       "version_minor": 0
      },
      "text/plain": [
       "VBox(children=(Checkbox(value=False, description='Yes/No', layout=Layout(width='50%'), style=CheckboxStyle(des…"
      ]
     },
     "metadata": {},
     "output_type": "display_data"
    }
   ],
   "source": [
    "# Test adding checkbox\n",
    "from ezinput import EZInput\n",
    "gui = EZInput(\"Test_jupyter_8\")\n",
    "gui.add_check(\"tag\", \"Yes/No\")\n",
    "gui.show()"
   ]
  },
  {
   "cell_type": "code",
   "execution_count": 11,
   "metadata": {},
   "outputs": [
    {
     "data": {
      "application/vnd.jupyter.widget-view+json": {
       "model_id": "173571f390c3456f9b03c58279df6d1e",
       "version_major": 2,
       "version_minor": 0
      },
      "text/plain": [
       "VBox(children=(IntText(value=0, description='Enter an integer:', layout=Layout(width='50%'), style=Description…"
      ]
     },
     "metadata": {},
     "output_type": "display_data"
    }
   ],
   "source": [
    "# Test numerical text boxes\n",
    "from ezinput import EZInput\n",
    "gui = EZInput(\"Test_jupyter_9\")\n",
    "gui.add_int_text(\n",
    "    \"tag\",\n",
    "    description=\"Enter an integer:\",\n",
    "    remember_value=True,\n",
    ")\n",
    "gui.add_bounded_int_text(\n",
    "    \"tag2\",\n",
    "    \"Enter a bounded integer:\",\n",
    "    0,\n",
    "    10,\n",
    "    remember_value=True,\n",
    ")\n",
    "gui.add_float_text(\n",
    "    \"tag3\",\n",
    "    \"Enter a float:\",\n",
    "    remember_value=True,\n",
    ")\n",
    "gui.add_bounded_float_text(\n",
    "    \"tag4\",\n",
    "    \"Enter a bounded float:\",\n",
    "    0.0,\n",
    "    10.0,\n",
    "    remember_value=True,\n",
    ")\n",
    "gui.show()"
   ]
  },
  {
   "cell_type": "code",
   "execution_count": 13,
   "metadata": {},
   "outputs": [
    {
     "data": {
      "application/vnd.jupyter.widget-view+json": {
       "model_id": "b4664148189f46738a292ce54bc974d1",
       "version_major": 2,
       "version_minor": 0
      },
      "text/plain": [
       "VBox(children=(Dropdown(description='Select an option:', layout=Layout(width='50%'), options=('Option 1', 'Opt…"
      ]
     },
     "metadata": {},
     "output_type": "display_data"
    }
   ],
   "source": [
    "# Test adding a dropdown\n",
    "from ezinput import EZInput\n",
    "gui = EZInput(\"Test_jupyter_10\")\n",
    "gui.add_dropdown(\n",
    "    \"dropdown\",\n",
    "    [\"Option 1\", \"Option 2\", \"Option 3\"],\n",
    "    \"Select an option:\",\n",
    "    remember_value=True,\n",
    ")\n",
    "\n",
    "gui.show()"
   ]
  },
  {
   "cell_type": "code",
   "execution_count": 14,
   "metadata": {},
   "outputs": [],
   "source": [
    "gui.save_settings()"
   ]
  },
  {
   "cell_type": "code",
   "execution_count": 1,
   "metadata": {},
   "outputs": [
    {
     "data": {
      "application/vnd.jupyter.widget-view+json": {
       "model_id": "013968a75c734611b42fdf4783d9546d",
       "version_major": 2,
       "version_minor": 0
      },
      "text/plain": [
       "VBox(children=(Label(value='Test Header', layout=Layout(width='50%'), style=LabelStyle(description_width='init…"
      ]
     },
     "metadata": {},
     "output_type": "display_data"
    }
   ],
   "source": [
    "from ezinput import EZInput\n",
    "\n",
    "\n",
    "def custom_sum_text(values):\n",
    "    sum = values[\"test_text\"].value + values[\"test_text_2\"].value\n",
    "    gui.add_label(\n",
    "        value=f\"Sum of text: {sum}\",\n",
    "    )\n",
    "    gui.show()\n",
    "\n",
    "gui = EZInput(\"Test_jupyter_4\")\n",
    "gui.add_label(value=\"Test Header\")\n",
    "gui.add_text(\n",
    "    \"test_text\",\n",
    "    description=\"Enter text:\",\n",
    "    placeholder=\"Enter text here\",\n",
    "    remember_value=True,\n",
    ")\n",
    "gui.show()\n",
    "gui.add_text(\n",
    "    \"test_text_2\",\n",
    "    description=\"Enter text:\",\n",
    "    placeholder=\"Enter text here\",\n",
    "    remember_value=True,\n",
    ")\n",
    "gui.add_callback(\n",
    "    \"button\",\n",
    "    custom_sum_text,\n",
    "    gui.elements,\n",
    "    description=\"Sum Text\"\n",
    ")\n",
    "gui.show()\n",
    "\n"
   ]
  },
  {
   "cell_type": "code",
   "execution_count": 2,
   "metadata": {},
   "outputs": [],
   "source": [
    "gui[\"test_text\"].value = \"AhAh\"\n",
    "gui[\"test_text_2\"].value = \"OhOh\"\n",
    "gui.save_parameters(\"\")\n",
    "gui.save_parameters(\"Test_jupyter_4_explicit.yml\")"
   ]
  },
  {
   "cell_type": "code",
   "execution_count": 3,
   "metadata": {},
   "outputs": [
    {
     "data": {
      "application/vnd.jupyter.widget-view+json": {
       "model_id": "c52f26f5577b4441a448695143cf59d5",
       "version_major": 2,
       "version_minor": 0
      },
      "text/plain": [
       "VBox(children=(Label(value='Test Header', layout=Layout(width='50%'), style=LabelStyle(description_width='init…"
      ]
     },
     "metadata": {},
     "output_type": "display_data"
    },
    {
     "name": "stdout",
     "output_type": "stream",
     "text": [
      "{'test_text': 'AhAh', 'test_text_2': 'OhOh'}\n"
     ]
    }
   ],
   "source": [
    "gui = EZInput(\"Test_jupyter_5\", params_file=\"Test_jupyter_4_parameters.yml\")\n",
    "gui.add_label(value=\"Test Header\")\n",
    "gui.add_text(\n",
    "    \"test_text\",\n",
    "    description=\"Enter text:\",\n",
    "    placeholder=\"Enter text here\",\n",
    "    remember_value=True,\n",
    ")\n",
    "gui.show()\n",
    "gui.add_text(\n",
    "    \"test_text_2\",\n",
    "    description=\"Enter text:\",\n",
    "    placeholder=\"Enter text here\",\n",
    "    remember_value=True,\n",
    ")\n",
    "gui.show()\n",
    "print(gui.params)\n",
    "assert gui[\"test_text\"].value == \"AhAh\"\n",
    "assert gui[\"test_text_2\"].value == \"OhOh\""
   ]
  },
  {
   "cell_type": "code",
   "execution_count": 5,
   "metadata": {},
   "outputs": [
    {
     "data": {
      "application/vnd.jupyter.widget-view+json": {
       "model_id": "91ff6acc9ecb4398bd80e080f8f0cd6c",
       "version_major": 2,
       "version_minor": 0
      },
      "text/plain": [
       "VBox(children=(Label(value='Test Header', layout=Layout(width='50%'), style=LabelStyle(description_width='init…"
      ]
     },
     "metadata": {},
     "output_type": "display_data"
    }
   ],
   "source": [
    "gui = EZInput(\"Test_jupyter_6\", params_file=\"Test_jupyter_4_explicit.yml\")\n",
    "gui.add_label(value=\"Test Header\")\n",
    "gui.add_text(\n",
    "    \"test_text\",\n",
    "    description=\"Enter text:\",\n",
    "    placeholder=\"Enter text here\",\n",
    "    remember_value=True,\n",
    ")\n",
    "gui.show()\n",
    "gui.add_text(\n",
    "    \"test_text_2\",\n",
    "    description=\"Enter text:\",\n",
    "    placeholder=\"Enter text here\",\n",
    "    remember_value=True,\n",
    ")\n",
    "gui.show()\n",
    "\n",
    "assert gui[\"test_text\"].value == \"AhAh\"\n",
    "assert gui[\"test_text_2\"].value == \"OhOh\""
   ]
  }
 ],
 "metadata": {
  "kernelspec": {
   "display_name": "dev",
   "language": "python",
   "name": "python3"
  },
  "language_info": {
   "codemirror_mode": {
    "name": "ipython",
    "version": 3
   },
   "file_extension": ".py",
   "mimetype": "text/x-python",
   "name": "python",
   "nbconvert_exporter": "python",
   "pygments_lexer": "ipython3",
   "version": "3.11.11"
  }
 },
 "nbformat": 4,
 "nbformat_minor": 2
}
