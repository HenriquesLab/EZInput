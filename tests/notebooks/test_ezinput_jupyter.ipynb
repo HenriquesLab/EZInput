{
 "cells": [
  {
   "cell_type": "code",
   "execution_count": 1,
   "metadata": {},
   "outputs": [],
   "source": [
    "# Test that the GUI is in Jupyter mode\n",
    "from ezinput import EZInput\n",
    "\n",
    "gui = EZInput()\n",
    "assert gui.mode == \"jupyter\""
   ]
  },
  {
   "cell_type": "code",
   "execution_count": 2,
   "metadata": {},
   "outputs": [],
   "source": [
    "# Test adding a label\n",
    "gui = EZInput(\"Test_jupyter\")\n",
    "gui.add_label(value=\"Test Header\")"
   ]
  },
  {
   "cell_type": "code",
   "execution_count": 3,
   "metadata": {},
   "outputs": [],
   "source": [
    "# Test adding a text input\n",
    "gui = EZInput(\"Test_jupyter_2\")\n",
    "gui.add_text(\n",
    "    \"test_text\",\n",
    "    \"Enter text:\",\n",
    "    placeholder=\"Example text\",\n",
    "    remember_value=True,\n",
    ")"
   ]
  },
  {
   "cell_type": "code",
   "execution_count": 4,
   "metadata": {},
   "outputs": [
    {
     "data": {
      "application/vnd.jupyter.widget-view+json": {
       "model_id": "901d56f25f4a49709644ed7c766046ff",
       "version_major": 2,
       "version_minor": 0
      },
      "text/plain": [
       "VBox(children=(Textarea(value='', description='Enter text:', layout=Layout(width='50%'), placeholder='Example …"
      ]
     },
     "metadata": {},
     "output_type": "display_data"
    }
   ],
   "source": [
    "# Test adding a text input\n",
    "gui = EZInput(\"Test_jupyter_3\")\n",
    "gui.add_text_area(\n",
    "    \"test_text\",\n",
    "    \"Enter text:\",\n",
    "    placeholder=\"Example text\",\n",
    "    remember_value=True,\n",
    ")\n",
    "gui.show()"
   ]
  },
  {
   "cell_type": "code",
   "execution_count": 5,
   "metadata": {},
   "outputs": [
    {
     "data": {
      "application/vnd.jupyter.widget-view+json": {
       "model_id": "720f7ad025e44c7fbc91f3221bcd10cd",
       "version_major": 2,
       "version_minor": 0
      },
      "text/plain": [
       "VBox(children=(Label(value='Test Header', layout=Layout(width='50%'), style=DescriptionStyle(description_width…"
      ]
     },
     "metadata": {},
     "output_type": "display_data"
    }
   ],
   "source": [
    "# Test adding a callback\n",
    "from ezinput import EZInput\n",
    "\n",
    "def custom_sum_text(values):\n",
    "    sum = values[\"test_text\"].value + values[\"test_text_2\"].value\n",
    "    gui.add_label(\n",
    "        value=f\"Sum of text: {sum}\",\n",
    "    )\n",
    "    imwrite(gui.va)\n",
    "    gui.save_config()\n",
    "    gui.show()\n",
    "\n",
    "gui = EZInput(\"Test_jupyter_4\")\n",
    "gui.add_label(value=\"Test Header\")\n",
    "gui.add_text(\n",
    "    \"test_text\",\n",
    "    description=\"Enter text:\",\n",
    "    placeholder=\"Enter text here\",\n",
    "    remember_value=True,\n",
    ")\n",
    "gui.show()\n",
    "gui.add_text(\n",
    "    \"test_text_2\",\n",
    "    description=\"Enter text:\",\n",
    "    placeholder=\"Enter text here\",\n",
    "    remember_value=True,\n",
    ")\n",
    "gui.add_callback(\n",
    "    \"button\",\n",
    "    custom_sum_text,\n",
    "    gui.elements,\n",
    "    description=\"Sum Text\"\n",
    ")\n",
    "gui.show()"
   ]
  },
  {
   "cell_type": "code",
   "execution_count": 6,
   "metadata": {},
   "outputs": [
    {
     "data": {
      "application/vnd.jupyter.widget-view+json": {
       "model_id": "851604c6e762433885e6a4d2d08c4bc8",
       "version_major": 2,
       "version_minor": 0
      },
      "text/plain": [
       "VBox(children=(Label(value='Test Header', layout=Layout(width='50%'), style=DescriptionStyle(description_width…"
      ]
     },
     "metadata": {},
     "output_type": "display_data"
    }
   ],
   "source": [
    "# Test adding a button\n",
    "from ezinput import EZInput\n",
    "gui = EZInput(\"Test_jupyter_5\")\n",
    "gui.add_label(value=\"Test Header\")\n",
    "gui.add_button(\n",
    "    \"button\",\n",
    "    description=\"Test Button\",\n",
    ")\n",
    "gui.show()"
   ]
  },
  {
   "cell_type": "code",
   "execution_count": 7,
   "metadata": {},
   "outputs": [
    {
     "data": {
      "application/vnd.jupyter.widget-view+json": {
       "model_id": "23574dcfdcdd461183ec2af88b0a5887",
       "version_major": 2,
       "version_minor": 0
      },
      "text/plain": [
       "VBox(children=(IntSlider(value=0, description='Range', layout=Layout(width='50%'), max=10, style=SliderStyle(d…"
      ]
     },
     "metadata": {},
     "output_type": "display_data"
    }
   ],
   "source": [
    "# Test adding int slider\n",
    "from ezinput import EZInput\n",
    "gui = EZInput(\"Test_jupyter_6\")\n",
    "gui.add_int_range(\"tag\", \"Range\", 0, 10)\n",
    "gui.add_int_slider(\"sensitivity\", description=\"Sensitivity:\", min=1, max=10, value=1)\n",
    "gui.show()"
   ]
  },
  {
   "cell_type": "code",
   "execution_count": 21,
   "metadata": {},
   "outputs": [
    {
     "data": {
      "application/vnd.jupyter.widget-view+json": {
       "model_id": "8d394e141c5b4dd2aec8a90133f61ed0",
       "version_major": 2,
       "version_minor": 0
      },
      "text/plain": [
       "VBox(children=(Text(value='Test Header', layout=Layout(width='50%'), placeholder='', style=DescriptionStyle(de…"
      ]
     },
     "metadata": {},
     "output_type": "display_data"
    }
   ],
   "source": [
    "# Test adding float slider\n",
    "from ezinput import EZInput\n",
    "gui = EZInput(\"Test_jupyter_7\")\n",
    "def print_on_change(val):\n",
    "    gui[\"text\"].value = f\"Value changed to: {val['new']}\"\n",
    "gui.add_text(tag=\"text\", value=\"Test Header\")\n",
    "gui.add_float_range(\"tag\", \"Range\", 0.0, 1.0, on_change=print_on_change)\n",
    "gui.add_float_slider(\"ring_radius\", description=\"Ring Radius:\", min=0.1, max=3.0, value=0.5, remember_value=True, on_change=print_on_change)\n",
    "gui.add_output(\"output\")\n",
    "gui.show()"
   ]
  },
  {
   "cell_type": "code",
   "execution_count": 9,
   "metadata": {},
   "outputs": [
    {
     "data": {
      "application/vnd.jupyter.widget-view+json": {
       "model_id": "271ea129507f4bfe95302bb4b8900db4",
       "version_major": 2,
       "version_minor": 0
      },
      "text/plain": [
       "VBox(children=(Checkbox(value=False, description='Yes/No', layout=Layout(width='50%'), style=DescriptionStyle(…"
      ]
     },
     "metadata": {},
     "output_type": "display_data"
    }
   ],
   "source": [
    "# Test adding checkbox\n",
    "from ezinput import EZInput\n",
    "gui = EZInput(\"Test_jupyter_8\")\n",
    "gui.add_check(\"tag\", \"Yes/No\")\n",
    "gui.show()"
   ]
  },
  {
   "cell_type": "code",
   "execution_count": 10,
   "metadata": {},
   "outputs": [
    {
     "data": {
      "application/vnd.jupyter.widget-view+json": {
       "model_id": "92d4d285e3a54fde8caa28dba0ce5951",
       "version_major": 2,
       "version_minor": 0
      },
      "text/plain": [
       "VBox(children=(IntText(value=0, description='Enter an integer:', layout=Layout(width='50%'), style=Description…"
      ]
     },
     "metadata": {},
     "output_type": "display_data"
    }
   ],
   "source": [
    "# Test numerical text boxes\n",
    "from ezinput import EZInput\n",
    "gui = EZInput(\"Test_jupyter_9\")\n",
    "gui.add_int_text(\n",
    "    \"tag\",\n",
    "    description=\"Enter an integer:\",\n",
    "    remember_value=True,\n",
    ")\n",
    "gui.add_bounded_int_text(\n",
    "    \"tag2\",\n",
    "    \"Enter a bounded integer:\",\n",
    "    0,\n",
    "    10,\n",
    "    remember_value=True,\n",
    ")\n",
    "gui.add_float_text(\n",
    "    \"tag3\",\n",
    "    \"Enter a float:\",\n",
    "    remember_value=True,\n",
    ")\n",
    "gui.add_bounded_float_text(\n",
    "    \"tag4\",\n",
    "    \"Enter a bounded float:\",\n",
    "    0.0,\n",
    "    10.0,\n",
    "    remember_value=True,\n",
    ")\n",
    "gui.show()"
   ]
  },
  {
   "cell_type": "code",
   "execution_count": 11,
   "metadata": {},
   "outputs": [
    {
     "data": {
      "application/vnd.jupyter.widget-view+json": {
       "model_id": "6f5794eb0c4b46dc9744bda01b9ad636",
       "version_major": 2,
       "version_minor": 0
      },
      "text/plain": [
       "VBox(children=(Dropdown(description='Select an option:', layout=Layout(width='50%'), options=('Option 1', 'Opt…"
      ]
     },
     "metadata": {},
     "output_type": "display_data"
    }
   ],
   "source": [
    "# Test adding a dropdown\n",
    "from ezinput import EZInput\n",
    "gui = EZInput(\"Test_jupyter_10\")\n",
    "gui.add_dropdown(\n",
    "    \"dropdown\",\n",
    "    [\"Option 1\", \"Option 2\", \"Option 3\"],\n",
    "    \"Select an option:\",\n",
    "    remember_value=True,\n",
    ")\n",
    "\n",
    "gui.show()"
   ]
  },
  {
   "cell_type": "code",
   "execution_count": 12,
   "metadata": {},
   "outputs": [],
   "source": [
    "gui.save_settings()"
   ]
  },
  {
   "cell_type": "code",
   "execution_count": 13,
   "metadata": {},
   "outputs": [
    {
     "data": {
      "application/vnd.jupyter.widget-view+json": {
       "model_id": "b17be17adb9649a0894be5ced8a9cb54",
       "version_major": 2,
       "version_minor": 0
      },
      "text/plain": [
       "VBox(children=(Label(value='Test Header', layout=Layout(width='50%'), style=DescriptionStyle(description_width…"
      ]
     },
     "metadata": {},
     "output_type": "display_data"
    }
   ],
   "source": [
    "from ezinput import EZInput\n",
    "\n",
    "\n",
    "def custom_sum_text(values):\n",
    "    sum = values[\"test_text\"].value + values[\"test_text_2\"].value\n",
    "    gui.add_label(\n",
    "        value=f\"Sum of text: {sum}\",\n",
    "    )\n",
    "    gui.show()\n",
    "\n",
    "gui = EZInput(\"Test_jupyter_4\")\n",
    "gui.add_label(value=\"Test Header\")\n",
    "gui.add_text(\n",
    "    \"test_text\",\n",
    "    description=\"Enter text:\",\n",
    "    placeholder=\"Enter text here\",\n",
    "    remember_value=True,\n",
    ")\n",
    "gui.show()\n",
    "gui.add_text(\n",
    "    \"test_text_2\",\n",
    "    description=\"Enter text:\",\n",
    "    placeholder=\"Enter text here\",\n",
    "    remember_value=True,\n",
    ")\n",
    "gui.add_callback(\n",
    "    \"button\",\n",
    "    custom_sum_text,\n",
    "    gui.elements,\n",
    "    description=\"Sum Text\"\n",
    ")\n",
    "gui.show()\n",
    "\n"
   ]
  },
  {
   "cell_type": "code",
   "execution_count": 14,
   "metadata": {},
   "outputs": [],
   "source": [
    "gui[\"test_text\"].value = \"AhAh\"\n",
    "gui[\"test_text_2\"].value = \"OhOh\"\n",
    "gui.save_parameters(\"\")\n",
    "gui.save_parameters(\"Test_jupyter_4_explicit.yml\")"
   ]
  },
  {
   "cell_type": "code",
   "execution_count": 15,
   "metadata": {},
   "outputs": [
    {
     "data": {
      "application/vnd.jupyter.widget-view+json": {
       "model_id": "b52fc26383914c7b88d89b165438edef",
       "version_major": 2,
       "version_minor": 0
      },
      "text/plain": [
       "VBox(children=(Label(value='Test Header', layout=Layout(width='50%'), style=DescriptionStyle(description_width…"
      ]
     },
     "metadata": {},
     "output_type": "display_data"
    },
    {
     "name": "stdout",
     "output_type": "stream",
     "text": [
      "{'test_text': 'AhAh', 'test_text_2': 'OhOh'}\n"
     ]
    }
   ],
   "source": [
    "gui = EZInput(\"Test_jupyter_5\", params_file=\"Test_jupyter_4_parameters.yml\")\n",
    "gui.add_label(value=\"Test Header\")\n",
    "gui.add_text(\n",
    "    \"test_text\",\n",
    "    description=\"Enter text:\",\n",
    "    placeholder=\"Enter text here\",\n",
    "    remember_value=True,\n",
    ")\n",
    "gui.show()\n",
    "gui.add_text(\n",
    "    \"test_text_2\",\n",
    "    description=\"Enter text:\",\n",
    "    placeholder=\"Enter text here\",\n",
    "    remember_value=True,\n",
    ")\n",
    "gui.show()\n",
    "print(gui.params)\n",
    "assert gui[\"test_text\"].value == \"AhAh\"\n",
    "assert gui[\"test_text_2\"].value == \"OhOh\""
   ]
  },
  {
   "cell_type": "code",
   "execution_count": 16,
   "metadata": {},
   "outputs": [
    {
     "data": {
      "application/vnd.jupyter.widget-view+json": {
       "model_id": "f2ecd4b7d7b64189b8ee0ca7fe1f897c",
       "version_major": 2,
       "version_minor": 0
      },
      "text/plain": [
       "VBox(children=(Label(value='Test Header', layout=Layout(width='50%'), style=DescriptionStyle(description_width…"
      ]
     },
     "metadata": {},
     "output_type": "display_data"
    }
   ],
   "source": [
    "gui = EZInput(\"Test_jupyter_6\", params_file=\"Test_jupyter_4_explicit.yml\")\n",
    "gui.add_label(value=\"Test Header\")\n",
    "gui.add_text(\n",
    "    \"test_text\",\n",
    "    description=\"Enter text:\",\n",
    "    placeholder=\"Enter text here\",\n",
    "    remember_value=True,\n",
    ")\n",
    "gui.show()\n",
    "gui.add_text(\n",
    "    \"test_text_2\",\n",
    "    description=\"Enter text:\",\n",
    "    placeholder=\"Enter text here\",\n",
    "    remember_value=True,\n",
    ")\n",
    "gui.show()\n",
    "\n",
    "assert gui[\"test_text\"].value == \"AhAh\"\n",
    "assert gui[\"test_text_2\"].value == \"OhOh\""
   ]
  },
  {
   "cell_type": "code",
   "execution_count": null,
   "metadata": {},
   "outputs": [],
   "source": [
    "from ezinput import EZInput\n",
    "gui = EZInput(\"Test_jupyter_11\")\n",
    "gui.add_label(value=\"test header\")\n",
    "gui.add_HTML(\"message\", \"This is a test HTML element <br> New line here\")\n",
    "gui.show()"
   ]
  }
 ],
 "metadata": {
  "kernelspec": {
   "display_name": "aiobio_dev",
   "language": "python",
   "name": "python3"
  },
  "language_info": {
   "codemirror_mode": {
    "name": "ipython",
    "version": 3
   },
   "file_extension": ".py",
   "mimetype": "text/x-python",
   "name": "python",
   "nbconvert_exporter": "python",
   "pygments_lexer": "ipython3",
   "version": "3.11.11"
  }
 },
 "nbformat": 4,
 "nbformat_minor": 2
}
