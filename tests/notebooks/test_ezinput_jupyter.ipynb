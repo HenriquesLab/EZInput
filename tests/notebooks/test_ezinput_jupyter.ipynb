{
 "cells": [
  {
   "cell_type": "code",
   "execution_count": 6,
   "metadata": {},
   "outputs": [],
   "source": [
    "# Test that the GUI is in Jupyter mode\n",
    "from ezinput import EZInput\n",
    "\n",
    "gui = EZInput()\n",
    "assert gui.mode == \"jupyter\""
   ]
  },
  {
   "cell_type": "code",
   "execution_count": 7,
   "metadata": {},
   "outputs": [],
   "source": [
    "# Test adding a label\n",
    "gui = EZInput(\"Test_jupyter\")\n",
    "gui.add_label(\"tag\", label=\"Test Header\")"
   ]
  },
  {
   "cell_type": "code",
   "execution_count": 8,
   "metadata": {},
   "outputs": [],
   "source": [
    "# Test adding a text input\n",
    "gui = EZInput(\"Test_jupyter_2\")\n",
    "gui.add_text(\n",
    "    \"test_text\",\n",
    "    \"Enter text:\",\n",
    "    placeholder=\"Example text\",\n",
    "    remember_value=True,\n",
    ")"
   ]
  },
  {
   "cell_type": "code",
   "execution_count": 9,
   "metadata": {},
   "outputs": [
    {
     "data": {
      "application/vnd.jupyter.widget-view+json": {
       "model_id": "ad94758ec0574910a7e1fd9cc1bb562e",
       "version_major": 2,
       "version_minor": 0
      },
      "text/plain": [
       "VBox(children=(Textarea(value='', description='Enter text:', layout=Layout(width='50%'), placeholder='Example …"
      ]
     },
     "metadata": {},
     "output_type": "display_data"
    }
   ],
   "source": [
    "# Test adding a text input\n",
    "gui = EZInput(\"Test_jupyter_3\")\n",
    "gui.add_text_area(\n",
    "    \"test_text\",\n",
    "    \"Enter text:\",\n",
    "    placeholder=\"Example text\",\n",
    "    remember_value=True,\n",
    ")\n",
    "gui.show()"
   ]
  },
  {
   "cell_type": "code",
   "execution_count": 10,
   "metadata": {},
   "outputs": [
    {
     "data": {
      "application/vnd.jupyter.widget-view+json": {
       "model_id": "610c655a3a104a5cacc03d72ab9551b4",
       "version_major": 2,
       "version_minor": 0
      },
      "text/plain": [
       "VBox(children=(Label(value='Test Header', layout=Layout(width='50%'), style=LabelStyle(description_width='init…"
      ]
     },
     "metadata": {},
     "output_type": "display_data"
    }
   ],
   "source": [
    "# Test adding a callback\n",
    "from ezinput import EZInput\n",
    "\n",
    "\n",
    "def custom_sum_text(values):\n",
    "    sum = values[\"test_text\"].value + values[\"test_text_2\"].value\n",
    "    gui.add_label(\n",
    "        \"tag2\",\n",
    "        label=f\"Sum of text: {sum}\",\n",
    "    )\n",
    "    gui.show()\n",
    "\n",
    "gui = EZInput(\"Test_jupyter_4\")\n",
    "gui.add_label(\"tag\", label=\"Test Header\")\n",
    "gui.add_text(\n",
    "    \"test_text\",\n",
    "    description=\"Enter text:\",\n",
    "    placeholder=\"Enter text here\",\n",
    "    remember_value=True,\n",
    ")\n",
    "gui.show()\n",
    "gui.add_text(\n",
    "    \"test_text_2\",\n",
    "    description=\"Enter text:\",\n",
    "    placeholder=\"Enter text here\",\n",
    "    remember_value=True,\n",
    ")\n",
    "gui.add_callback(\n",
    "    \"button\",\n",
    "    custom_sum_text,\n",
    "    gui.elements,\n",
    "    description=\"Sum Text\"\n",
    ")\n",
    "gui.show()"
   ]
  },
  {
   "cell_type": "code",
   "execution_count": 1,
   "metadata": {},
   "outputs": [
    {
     "data": {
      "application/vnd.jupyter.widget-view+json": {
       "model_id": "840cdbc7805849388ce6a51e6e460bdf",
       "version_major": 2,
       "version_minor": 0
      },
      "text/plain": [
       "VBox(children=(Label(value='Test Header', layout=Layout(width='50%'), style=LabelStyle(description_width='init…"
      ]
     },
     "metadata": {},
     "output_type": "display_data"
    }
   ],
   "source": [
    "# Test adding a button\n",
    "from ezinput import EZInput\n",
    "gui = EZInput(\"Test_jupyter_5\")\n",
    "gui.add_label(\"tag\", label=\"Test Header\")\n",
    "gui.add_button(\n",
    "    \"button\",\n",
    "    description=\"Test Button\",\n",
    ")\n",
    "gui.show()"
   ]
  },
  {
   "cell_type": "code",
   "execution_count": 12,
   "metadata": {},
   "outputs": [
    {
     "data": {
      "application/vnd.jupyter.widget-view+json": {
       "model_id": "c23858a2f9d44b6987e17222c4ffcbeb",
       "version_major": 2,
       "version_minor": 0
      },
      "text/plain": [
       "VBox(children=(IntSlider(value=0, description='Range', layout=Layout(width='50%'), max=10, style=SliderStyle(d…"
      ]
     },
     "metadata": {},
     "output_type": "display_data"
    }
   ],
   "source": [
    "# Test adding int slider\n",
    "from ezinput import EZInput\n",
    "gui = EZInput(\"Test_jupyter_6\")\n",
    "gui.add_int_range(\"tag\", \"Range\", 0, 10)\n",
    "gui.show()"
   ]
  },
  {
   "cell_type": "code",
   "execution_count": 13,
   "metadata": {},
   "outputs": [
    {
     "data": {
      "application/vnd.jupyter.widget-view+json": {
       "model_id": "d7e2fc3d4a8242079a9fb5d70136f120",
       "version_major": 2,
       "version_minor": 0
      },
      "text/plain": [
       "VBox(children=(FloatSlider(value=0.0, description='Range', layout=Layout(width='50%'), max=1.0, style=SliderSt…"
      ]
     },
     "metadata": {},
     "output_type": "display_data"
    }
   ],
   "source": [
    "# Test adding float slider\n",
    "from ezinput import EZInput\n",
    "gui = EZInput(\"Test_jupyter_7\")\n",
    "gui.add_float_range(\"tag\", \"Range\", 0.0, 1.0)\n",
    "gui.show()"
   ]
  },
  {
   "cell_type": "markdown",
   "metadata": {},
   "source": []
  },
  {
   "cell_type": "code",
   "execution_count": 14,
   "metadata": {},
   "outputs": [
    {
     "data": {
      "application/vnd.jupyter.widget-view+json": {
       "model_id": "4e622af8788943a998e7918e2ebfb2e6",
       "version_major": 2,
       "version_minor": 0
      },
      "text/plain": [
       "VBox(children=(Checkbox(value=False, description='Yes/No', layout=Layout(width='50%'), style=CheckboxStyle(des…"
      ]
     },
     "metadata": {},
     "output_type": "display_data"
    }
   ],
   "source": [
    "# Test adding checkbox\n",
    "from ezinput import EZInput\n",
    "gui = EZInput(\"Test_jupyter_8\")\n",
    "gui.add_check(\"tag\", \"Yes/No\")\n",
    "gui.show()"
   ]
  },
  {
   "cell_type": "code",
   "execution_count": 15,
   "metadata": {},
   "outputs": [
    {
     "data": {
      "application/vnd.jupyter.widget-view+json": {
       "model_id": "8c67a7795607461ea617e1e9a79ec634",
       "version_major": 2,
       "version_minor": 0
      },
      "text/plain": [
       "VBox(children=(IntText(value=0, description='Enter an integer:', layout=Layout(width='50%'), style=Description…"
      ]
     },
     "metadata": {},
     "output_type": "display_data"
    }
   ],
   "source": [
    "# Test numerical text boxes\n",
    "from ezinput import EZInput\n",
    "gui = EZInput(\"Test_jupyter_9\")\n",
    "gui.add_int_text(\n",
    "    \"tag\",\n",
    "    description=\"Enter an integer:\",\n",
    "    remember_value=True,\n",
    ")\n",
    "gui.add_bounded_int_text(\n",
    "    \"tag2\",\n",
    "    \"Enter a bounded integer:\",\n",
    "    0,\n",
    "    10,\n",
    "    remember_value=True,\n",
    ")\n",
    "gui.add_float_text(\n",
    "    \"tag3\",\n",
    "    \"Enter a float:\",\n",
    "    remember_value=True,\n",
    ")\n",
    "gui.add_bounded_float_text(\n",
    "    \"tag4\",\n",
    "    \"Enter a bounded float:\",\n",
    "    0.0,\n",
    "    10.0,\n",
    "    remember_value=True,\n",
    ")\n",
    "gui.show()"
   ]
  },
  {
   "cell_type": "code",
   "execution_count": 15,
   "metadata": {},
   "outputs": [
    {
     "data": {
      "application/vnd.jupyter.widget-view+json": {
       "model_id": "9ba61379d1ac40e8a096961339632fd8",
       "version_major": 2,
       "version_minor": 0
      },
      "text/plain": [
       "VBox(children=(Dropdown(description='Select an option:', index=2, layout=Layout(width='50%'), options=('Option…"
      ]
     },
     "metadata": {},
     "output_type": "display_data"
    }
   ],
   "source": [
    "# Test adding a dropdown\n",
    "from ezinput import EZInput\n",
    "gui = EZInput(\"Test_jupyter_10\")\n",
    "gui.add_dropdown(\n",
    "    \"dropdown\",\n",
    "    [\"Option 1\", \"Option 2\", \"Option 3\"],\n",
    "    \"Select an option:\",\n",
    "    remember_value=True,\n",
    ")\n",
    "\n",
    "gui.show()"
   ]
  },
  {
   "cell_type": "code",
   "execution_count": 13,
   "metadata": {},
   "outputs": [
    {
     "name": "stdout",
     "output_type": "stream",
     "text": [
      "dict_keys(['dropdown'])\n",
      "Test_jupyter_10 {'dropdown': 'Option 3'}\n"
     ]
    }
   ],
   "source": [
    "gui.save_settings()"
   ]
  },
  {
   "cell_type": "code",
   "execution_count": null,
   "metadata": {},
   "outputs": [],
   "source": []
  },
  {
   "cell_type": "code",
   "execution_count": null,
   "metadata": {},
   "outputs": [],
   "source": []
  }
 ],
 "metadata": {
  "kernelspec": {
   "display_name": "dev",
   "language": "python",
   "name": "python3"
  },
  "language_info": {
   "codemirror_mode": {
    "name": "ipython",
    "version": 3
   },
   "file_extension": ".py",
   "mimetype": "text/x-python",
   "name": "python",
   "nbconvert_exporter": "python",
   "pygments_lexer": "ipython3",
   "version": "3.11.11"
  }
 },
 "nbformat": 4,
 "nbformat_minor": 2
}
