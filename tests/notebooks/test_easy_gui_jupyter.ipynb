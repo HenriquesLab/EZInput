{
 "cells": [
  {
   "cell_type": "code",
   "execution_count": null,
   "metadata": {},
   "outputs": [],
   "source": [
    "from easy_gui.easy_gui_jupyter import EasyGUIJupyter\n",
    "\n",
    "eg = EasyGUIJupyter()\n",
    "eg.add_text(\"text\", value=\"Hello, world!\")\n",
    "eg.show()"
   ]
  },
  {
   "cell_type": "code",
   "execution_count": null,
   "metadata": {},
   "outputs": [],
   "source": [
    "print(eg[\"text\"].value)"
   ]
  },
  {
   "cell_type": "code",
   "execution_count": null,
   "metadata": {},
   "outputs": [],
   "source": [
    "from easy_gui import EasyGUI\n",
    "\n",
    "eg2 = EasyGUI(title=\"Test\", mode=\"jupyter\")\n",
    "eg2.add_text(\"text\", value=\"Hello, world!\")\n",
    "eg2.show()"
   ]
  }
 ],
 "metadata": {
  "kernelspec": {
   "display_name": ".venv",
   "language": "python",
   "name": "python3"
  },
  "language_info": {
   "codemirror_mode": {
    "name": "ipython",
    "version": 3
   },
   "file_extension": ".py",
   "mimetype": "text/x-python",
   "name": "python",
   "nbconvert_exporter": "python",
   "pygments_lexer": "ipython3",
   "version": "3.10.14"
  }
 },
 "nbformat": 4,
 "nbformat_minor": 2
}
