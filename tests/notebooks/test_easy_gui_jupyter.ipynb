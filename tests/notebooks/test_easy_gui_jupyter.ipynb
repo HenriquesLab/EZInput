{
 "cells": [
  {
   "cell_type": "code",
   "execution_count": null,
   "metadata": {},
   "outputs": [],
   "source": [
    "from ezgui4jupyter import EZGUIJupyter\n",
    "\n",
    "eg = EZGUIJupyter()\n",
    "eg.add_text(\"text\", value=\"Hello, world!\")\n",
    "eg.show()"
   ]
  },
  {
   "cell_type": "code",
   "execution_count": null,
   "metadata": {},
   "outputs": [],
   "source": [
    "print(eg[\"text\"].value)"
   ]
  },
  {
   "cell_type": "code",
   "execution_count": null,
   "metadata": {},
   "outputs": [],
   "source": [
    "from ezgui4jupyter import EZGUI\n",
    "\n",
    "eg2 = EZGUI(title=\"Test\", mode=\"jupyter\")\n",
    "eg2.add_text(\"text\", value=\"Hello, world!\")\n",
    "eg2.show()"
   ]
  }
 ],
 "metadata": {
  "kernelspec": {
   "display_name": ".venv",
   "language": "python",
   "name": "python3"
  },
  "language_info": {
   "codemirror_mode": {
    "name": "ipython",
    "version": 3
   },
   "file_extension": ".py",
   "mimetype": "text/x-python",
   "name": "python",
   "nbconvert_exporter": "python",
   "pygments_lexer": "ipython3",
   "version": "3.10.14"
  }
 },
 "nbformat": 4,
 "nbformat_minor": 2
}
